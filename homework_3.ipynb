{
  "nbformat": 4,
  "nbformat_minor": 0,
  "metadata": {
    "colab": {
      "provenance": []
    },
    "kernelspec": {
      "name": "python3",
      "display_name": "Python 3"
    },
    "language_info": {
      "name": "python"
    }
  },
  "cells": [
    {
      "cell_type": "code",
      "execution_count": 332,
      "metadata": {
        "id": "kMoIPnAIon7m"
      },
      "outputs": [],
      "source": [
        "# ! wget https://raw.githubusercontent.com/alexeygrigorev/mlbookcamp-code/master/chapter-02-car-price/data.csv"
      ]
    },
    {
      "cell_type": "code",
      "source": [
        "import pandas as pd\n",
        "import numpy as np\n",
        "\n",
        "from sklearn.model_selection import train_test_split\n",
        "from sklearn.metrics import mutual_info_score, accuracy_score, mean_squared_error\n",
        "from sklearn.linear_model import LogisticRegression, Ridge\n",
        "from sklearn.preprocessing import OneHotEncoder\n",
        "from sklearn.feature_extraction import DictVectorizer"
      ],
      "metadata": {
        "id": "Dd9cfXWmpEpJ"
      },
      "execution_count": 354,
      "outputs": []
    },
    {
      "cell_type": "code",
      "source": [
        "df = pd.read_csv('data.csv')\n",
        "\n",
        "df.columns = df.columns.str.replace(' ', '_').str.lower()\n",
        "df.rename(columns={'msrp': 'price'}, inplace=True)"
      ],
      "metadata": {
        "id": "8ZER2CNQotU5"
      },
      "execution_count": 334,
      "outputs": []
    },
    {
      "cell_type": "code",
      "source": [
        "cols_to_use = ['make', 'model', 'year', 'engine_hp',\n",
        "               'engine_cylinders', 'transmission_type',\n",
        "               'vehicle_style', 'highway_mpg', 'city_mpg']\n",
        "features = df[cols_to_use]\n",
        "target = df.price"
      ],
      "metadata": {
        "id": "93VeKqPjotRT"
      },
      "execution_count": 335,
      "outputs": []
    },
    {
      "cell_type": "code",
      "source": [
        "features.fillna(0, inplace=True)"
      ],
      "metadata": {
        "colab": {
          "base_uri": "https://localhost:8080/"
        },
        "id": "OfZGRvxCotM_",
        "outputId": "81b654ef-b36b-43ef-dcbc-339ead3be3e4"
      },
      "execution_count": 336,
      "outputs": [
        {
          "output_type": "stream",
          "name": "stderr",
          "text": [
            "<ipython-input-336-ff275283c1fd>:1: SettingWithCopyWarning: \n",
            "A value is trying to be set on a copy of a slice from a DataFrame\n",
            "\n",
            "See the caveats in the documentation: https://pandas.pydata.org/pandas-docs/stable/user_guide/indexing.html#returning-a-view-versus-a-copy\n",
            "  features.fillna(0, inplace=True)\n"
          ]
        }
      ]
    },
    {
      "cell_type": "markdown",
      "source": [
        "## Question 1"
      ],
      "metadata": {
        "id": "qcTayDizrzaV"
      }
    },
    {
      "cell_type": "code",
      "source": [
        "features.transmission_type.mode()"
      ],
      "metadata": {
        "colab": {
          "base_uri": "https://localhost:8080/"
        },
        "id": "UgWnB7E-otPJ",
        "outputId": "2c40fe28-25b3-4174-8cdb-bec587bf337f"
      },
      "execution_count": 337,
      "outputs": [
        {
          "output_type": "execute_result",
          "data": {
            "text/plain": [
              "0    AUTOMATIC\n",
              "Name: transmission_type, dtype: object"
            ]
          },
          "metadata": {},
          "execution_count": 337
        }
      ]
    },
    {
      "cell_type": "markdown",
      "source": [
        "## Question 2"
      ],
      "metadata": {
        "id": "BIggwNiXsEoa"
      }
    },
    {
      "cell_type": "code",
      "source": [
        "num_cols = features.select_dtypes(include=np.number).columns.tolist()\n",
        "\n",
        "corr = features[num_cols].corr()\n",
        "corr.style.background_gradient(cmap='coolwarm').set_precision(2)"
      ],
      "metadata": {
        "colab": {
          "base_uri": "https://localhost:8080/",
          "height": 241
        },
        "id": "rA-xMfGIsgZR",
        "outputId": "2cf8ca59-d474-4012-f8e8-6f06d12bf440"
      },
      "execution_count": 338,
      "outputs": [
        {
          "output_type": "stream",
          "name": "stderr",
          "text": [
            "<ipython-input-338-45029bca56e6>:4: FutureWarning: this method is deprecated in favour of `Styler.format(precision=..)`\n",
            "  corr.style.background_gradient(cmap='coolwarm').set_precision(2)\n"
          ]
        },
        {
          "output_type": "execute_result",
          "data": {
            "text/plain": [
              "<pandas.io.formats.style.Styler at 0x7939c85588e0>"
            ],
            "text/html": [
              "<style type=\"text/css\">\n",
              "#T_8a2dc_row0_col0, #T_8a2dc_row1_col1, #T_8a2dc_row2_col2, #T_8a2dc_row3_col3, #T_8a2dc_row4_col4 {\n",
              "  background-color: #b40426;\n",
              "  color: #f1f1f1;\n",
              "}\n",
              "#T_8a2dc_row0_col1 {\n",
              "  background-color: #e6d7cf;\n",
              "  color: #000000;\n",
              "}\n",
              "#T_8a2dc_row0_col2 {\n",
              "  background-color: #b1cbfc;\n",
              "  color: #000000;\n",
              "}\n",
              "#T_8a2dc_row0_col3 {\n",
              "  background-color: #e7d7ce;\n",
              "  color: #000000;\n",
              "}\n",
              "#T_8a2dc_row0_col4 {\n",
              "  background-color: #dbdcde;\n",
              "  color: #000000;\n",
              "}\n",
              "#T_8a2dc_row1_col0 {\n",
              "  background-color: #b5cdfa;\n",
              "  color: #000000;\n",
              "}\n",
              "#T_8a2dc_row1_col2 {\n",
              "  background-color: #e16751;\n",
              "  color: #f1f1f1;\n",
              "}\n",
              "#T_8a2dc_row1_col3 {\n",
              "  background-color: #6180e9;\n",
              "  color: #f1f1f1;\n",
              "}\n",
              "#T_8a2dc_row1_col4 {\n",
              "  background-color: #5a78e4;\n",
              "  color: #f1f1f1;\n",
              "}\n",
              "#T_8a2dc_row2_col0, #T_8a2dc_row2_col3, #T_8a2dc_row2_col4, #T_8a2dc_row3_col2, #T_8a2dc_row4_col1 {\n",
              "  background-color: #3b4cc0;\n",
              "  color: #f1f1f1;\n",
              "}\n",
              "#T_8a2dc_row2_col1 {\n",
              "  background-color: #e57058;\n",
              "  color: #f1f1f1;\n",
              "}\n",
              "#T_8a2dc_row3_col0 {\n",
              "  background-color: #9abbff;\n",
              "  color: #000000;\n",
              "}\n",
              "#T_8a2dc_row3_col1 {\n",
              "  background-color: #3c4ec2;\n",
              "  color: #f1f1f1;\n",
              "}\n",
              "#T_8a2dc_row3_col4 {\n",
              "  background-color: #cd423b;\n",
              "  color: #f1f1f1;\n",
              "}\n",
              "#T_8a2dc_row4_col0 {\n",
              "  background-color: #85a8fc;\n",
              "  color: #f1f1f1;\n",
              "}\n",
              "#T_8a2dc_row4_col2 {\n",
              "  background-color: #3f53c6;\n",
              "  color: #f1f1f1;\n",
              "}\n",
              "#T_8a2dc_row4_col3 {\n",
              "  background-color: #cc403a;\n",
              "  color: #f1f1f1;\n",
              "}\n",
              "</style>\n",
              "<table id=\"T_8a2dc\" class=\"dataframe\">\n",
              "  <thead>\n",
              "    <tr>\n",
              "      <th class=\"blank level0\" >&nbsp;</th>\n",
              "      <th id=\"T_8a2dc_level0_col0\" class=\"col_heading level0 col0\" >year</th>\n",
              "      <th id=\"T_8a2dc_level0_col1\" class=\"col_heading level0 col1\" >engine_hp</th>\n",
              "      <th id=\"T_8a2dc_level0_col2\" class=\"col_heading level0 col2\" >engine_cylinders</th>\n",
              "      <th id=\"T_8a2dc_level0_col3\" class=\"col_heading level0 col3\" >highway_mpg</th>\n",
              "      <th id=\"T_8a2dc_level0_col4\" class=\"col_heading level0 col4\" >city_mpg</th>\n",
              "    </tr>\n",
              "  </thead>\n",
              "  <tbody>\n",
              "    <tr>\n",
              "      <th id=\"T_8a2dc_level0_row0\" class=\"row_heading level0 row0\" >year</th>\n",
              "      <td id=\"T_8a2dc_row0_col0\" class=\"data row0 col0\" >1.00</td>\n",
              "      <td id=\"T_8a2dc_row0_col1\" class=\"data row0 col1\" >0.34</td>\n",
              "      <td id=\"T_8a2dc_row0_col2\" class=\"data row0 col2\" >-0.04</td>\n",
              "      <td id=\"T_8a2dc_row0_col3\" class=\"data row0 col3\" >0.26</td>\n",
              "      <td id=\"T_8a2dc_row0_col4\" class=\"data row0 col4\" >0.20</td>\n",
              "    </tr>\n",
              "    <tr>\n",
              "      <th id=\"T_8a2dc_level0_row1\" class=\"row_heading level0 row1\" >engine_hp</th>\n",
              "      <td id=\"T_8a2dc_row1_col0\" class=\"data row1 col0\" >0.34</td>\n",
              "      <td id=\"T_8a2dc_row1_col1\" class=\"data row1 col1\" >1.00</td>\n",
              "      <td id=\"T_8a2dc_row1_col2\" class=\"data row1 col2\" >0.77</td>\n",
              "      <td id=\"T_8a2dc_row1_col3\" class=\"data row1 col3\" >-0.42</td>\n",
              "      <td id=\"T_8a2dc_row1_col4\" class=\"data row1 col4\" >-0.42</td>\n",
              "    </tr>\n",
              "    <tr>\n",
              "      <th id=\"T_8a2dc_level0_row2\" class=\"row_heading level0 row2\" >engine_cylinders</th>\n",
              "      <td id=\"T_8a2dc_row2_col0\" class=\"data row2 col0\" >-0.04</td>\n",
              "      <td id=\"T_8a2dc_row2_col1\" class=\"data row2 col1\" >0.77</td>\n",
              "      <td id=\"T_8a2dc_row2_col2\" class=\"data row2 col2\" >1.00</td>\n",
              "      <td id=\"T_8a2dc_row2_col3\" class=\"data row2 col3\" >-0.61</td>\n",
              "      <td id=\"T_8a2dc_row2_col4\" class=\"data row2 col4\" >-0.59</td>\n",
              "    </tr>\n",
              "    <tr>\n",
              "      <th id=\"T_8a2dc_level0_row3\" class=\"row_heading level0 row3\" >highway_mpg</th>\n",
              "      <td id=\"T_8a2dc_row3_col0\" class=\"data row3 col0\" >0.26</td>\n",
              "      <td id=\"T_8a2dc_row3_col1\" class=\"data row3 col1\" >-0.42</td>\n",
              "      <td id=\"T_8a2dc_row3_col2\" class=\"data row3 col2\" >-0.61</td>\n",
              "      <td id=\"T_8a2dc_row3_col3\" class=\"data row3 col3\" >1.00</td>\n",
              "      <td id=\"T_8a2dc_row3_col4\" class=\"data row3 col4\" >0.89</td>\n",
              "    </tr>\n",
              "    <tr>\n",
              "      <th id=\"T_8a2dc_level0_row4\" class=\"row_heading level0 row4\" >city_mpg</th>\n",
              "      <td id=\"T_8a2dc_row4_col0\" class=\"data row4 col0\" >0.20</td>\n",
              "      <td id=\"T_8a2dc_row4_col1\" class=\"data row4 col1\" >-0.42</td>\n",
              "      <td id=\"T_8a2dc_row4_col2\" class=\"data row4 col2\" >-0.59</td>\n",
              "      <td id=\"T_8a2dc_row4_col3\" class=\"data row4 col3\" >0.89</td>\n",
              "      <td id=\"T_8a2dc_row4_col4\" class=\"data row4 col4\" >1.00</td>\n",
              "    </tr>\n",
              "  </tbody>\n",
              "</table>\n"
            ]
          },
          "metadata": {},
          "execution_count": 338
        }
      ]
    },
    {
      "cell_type": "code",
      "source": [
        "def get_redundant_pairs(df):\n",
        "    '''Get diagonal and lower triangular pairs of correlation matrix'''\n",
        "    pairs_to_drop = set()\n",
        "    cols = df.columns\n",
        "    for i in range(0, df.shape[1]):\n",
        "        for j in range(0, i+1):\n",
        "            pairs_to_drop.add((cols[i], cols[j]))\n",
        "    return pairs_to_drop\n",
        "\n",
        "def get_top_abs_correlations(df, n=5):\n",
        "    au_corr = df.corr().abs().unstack()\n",
        "    labels_to_drop = get_redundant_pairs(df)\n",
        "    au_corr = au_corr.drop(labels=labels_to_drop).sort_values(ascending=False)\n",
        "    return au_corr[0:n]\n",
        "\n",
        "print(\"Top Absolute Correlations\")\n",
        "print(get_top_abs_correlations(features[num_cols], 1))"
      ],
      "metadata": {
        "colab": {
          "base_uri": "https://localhost:8080/"
        },
        "id": "Ru-OPn6YotK2",
        "outputId": "50fdb037-9f3b-442e-84cd-0d1b925948f0"
      },
      "execution_count": 339,
      "outputs": [
        {
          "output_type": "stream",
          "name": "stdout",
          "text": [
            "Top Absolute Correlations\n",
            "highway_mpg  city_mpg    0.886829\n",
            "dtype: float64\n"
          ]
        }
      ]
    },
    {
      "cell_type": "markdown",
      "source": [
        "## Question 3"
      ],
      "metadata": {
        "id": "AuZH8qsdua_x"
      }
    },
    {
      "cell_type": "code",
      "source": [
        "price_avg = target.mean()\n",
        "target_binary = np.where(target >= price_avg, 1 ,0)"
      ],
      "metadata": {
        "id": "qexdlWdVotJJ"
      },
      "execution_count": 340,
      "outputs": []
    },
    {
      "cell_type": "code",
      "source": [
        "np.random.seed(42)\n",
        "\n",
        "x_train, x, y_train, y = train_test_split(features,target_binary,test_size=0.4,train_size=0.6)\n",
        "x_test, x_val, y_test, y_val = train_test_split(x,y,test_size = 0.5,train_size =0.5)"
      ],
      "metadata": {
        "id": "-9G7AkFqotHn"
      },
      "execution_count": 341,
      "outputs": []
    },
    {
      "cell_type": "code",
      "source": [
        "categorical_cols = features.select_dtypes(include='object').columns.tolist()"
      ],
      "metadata": {
        "id": "C5mw9pkVotEZ"
      },
      "execution_count": 342,
      "outputs": []
    },
    {
      "cell_type": "code",
      "source": [
        "for col in categorical_cols:\n",
        "    print(col,round(mutual_info_score(y_train, x_train[col]), 2))"
      ],
      "metadata": {
        "colab": {
          "base_uri": "https://localhost:8080/"
        },
        "id": "-220pLUmotBQ",
        "outputId": "cc943f3e-5fe9-4dbc-fe6f-daa2e729b74d"
      },
      "execution_count": 343,
      "outputs": [
        {
          "output_type": "stream",
          "name": "stdout",
          "text": [
            "make 0.24\n",
            "model 0.46\n",
            "transmission_type 0.02\n",
            "vehicle_style 0.08\n"
          ]
        }
      ]
    },
    {
      "cell_type": "markdown",
      "source": [
        "## Question 4"
      ],
      "metadata": {
        "id": "kkw2tlysy8mb"
      }
    },
    {
      "cell_type": "code",
      "source": [
        "model = LogisticRegression(solver='liblinear', C=10, max_iter=1000, random_state=42)"
      ],
      "metadata": {
        "id": "bMXu5s66os-y"
      },
      "execution_count": 344,
      "outputs": []
    },
    {
      "cell_type": "code",
      "source": [
        "train_dict = x_train.to_dict(orient='records')\n",
        "\n",
        "dv = DictVectorizer(sparse=False)\n",
        "dv.fit(train_dict)\n",
        "x_train_tr = dv.transform(train_dict)"
      ],
      "metadata": {
        "id": "TpNb8rzKKnC-"
      },
      "execution_count": 345,
      "outputs": []
    },
    {
      "cell_type": "code",
      "source": [
        "model.fit(x_train_tr, y_train)"
      ],
      "metadata": {
        "colab": {
          "base_uri": "https://localhost:8080/",
          "height": 74
        },
        "id": "D_54NoRoos8W",
        "outputId": "cf1ce689-3740-49e7-d221-af62910c4ea2"
      },
      "execution_count": 346,
      "outputs": [
        {
          "output_type": "execute_result",
          "data": {
            "text/plain": [
              "LogisticRegression(C=10, max_iter=1000, random_state=42, solver='liblinear')"
            ],
            "text/html": [
              "<style>#sk-container-id-30 {color: black;background-color: white;}#sk-container-id-30 pre{padding: 0;}#sk-container-id-30 div.sk-toggleable {background-color: white;}#sk-container-id-30 label.sk-toggleable__label {cursor: pointer;display: block;width: 100%;margin-bottom: 0;padding: 0.3em;box-sizing: border-box;text-align: center;}#sk-container-id-30 label.sk-toggleable__label-arrow:before {content: \"▸\";float: left;margin-right: 0.25em;color: #696969;}#sk-container-id-30 label.sk-toggleable__label-arrow:hover:before {color: black;}#sk-container-id-30 div.sk-estimator:hover label.sk-toggleable__label-arrow:before {color: black;}#sk-container-id-30 div.sk-toggleable__content {max-height: 0;max-width: 0;overflow: hidden;text-align: left;background-color: #f0f8ff;}#sk-container-id-30 div.sk-toggleable__content pre {margin: 0.2em;color: black;border-radius: 0.25em;background-color: #f0f8ff;}#sk-container-id-30 input.sk-toggleable__control:checked~div.sk-toggleable__content {max-height: 200px;max-width: 100%;overflow: auto;}#sk-container-id-30 input.sk-toggleable__control:checked~label.sk-toggleable__label-arrow:before {content: \"▾\";}#sk-container-id-30 div.sk-estimator input.sk-toggleable__control:checked~label.sk-toggleable__label {background-color: #d4ebff;}#sk-container-id-30 div.sk-label input.sk-toggleable__control:checked~label.sk-toggleable__label {background-color: #d4ebff;}#sk-container-id-30 input.sk-hidden--visually {border: 0;clip: rect(1px 1px 1px 1px);clip: rect(1px, 1px, 1px, 1px);height: 1px;margin: -1px;overflow: hidden;padding: 0;position: absolute;width: 1px;}#sk-container-id-30 div.sk-estimator {font-family: monospace;background-color: #f0f8ff;border: 1px dotted black;border-radius: 0.25em;box-sizing: border-box;margin-bottom: 0.5em;}#sk-container-id-30 div.sk-estimator:hover {background-color: #d4ebff;}#sk-container-id-30 div.sk-parallel-item::after {content: \"\";width: 100%;border-bottom: 1px solid gray;flex-grow: 1;}#sk-container-id-30 div.sk-label:hover label.sk-toggleable__label {background-color: #d4ebff;}#sk-container-id-30 div.sk-serial::before {content: \"\";position: absolute;border-left: 1px solid gray;box-sizing: border-box;top: 0;bottom: 0;left: 50%;z-index: 0;}#sk-container-id-30 div.sk-serial {display: flex;flex-direction: column;align-items: center;background-color: white;padding-right: 0.2em;padding-left: 0.2em;position: relative;}#sk-container-id-30 div.sk-item {position: relative;z-index: 1;}#sk-container-id-30 div.sk-parallel {display: flex;align-items: stretch;justify-content: center;background-color: white;position: relative;}#sk-container-id-30 div.sk-item::before, #sk-container-id-30 div.sk-parallel-item::before {content: \"\";position: absolute;border-left: 1px solid gray;box-sizing: border-box;top: 0;bottom: 0;left: 50%;z-index: -1;}#sk-container-id-30 div.sk-parallel-item {display: flex;flex-direction: column;z-index: 1;position: relative;background-color: white;}#sk-container-id-30 div.sk-parallel-item:first-child::after {align-self: flex-end;width: 50%;}#sk-container-id-30 div.sk-parallel-item:last-child::after {align-self: flex-start;width: 50%;}#sk-container-id-30 div.sk-parallel-item:only-child::after {width: 0;}#sk-container-id-30 div.sk-dashed-wrapped {border: 1px dashed gray;margin: 0 0.4em 0.5em 0.4em;box-sizing: border-box;padding-bottom: 0.4em;background-color: white;}#sk-container-id-30 div.sk-label label {font-family: monospace;font-weight: bold;display: inline-block;line-height: 1.2em;}#sk-container-id-30 div.sk-label-container {text-align: center;}#sk-container-id-30 div.sk-container {/* jupyter's `normalize.less` sets `[hidden] { display: none; }` but bootstrap.min.css set `[hidden] { display: none !important; }` so we also need the `!important` here to be able to override the default hidden behavior on the sphinx rendered scikit-learn.org. See: https://github.com/scikit-learn/scikit-learn/issues/21755 */display: inline-block !important;position: relative;}#sk-container-id-30 div.sk-text-repr-fallback {display: none;}</style><div id=\"sk-container-id-30\" class=\"sk-top-container\"><div class=\"sk-text-repr-fallback\"><pre>LogisticRegression(C=10, max_iter=1000, random_state=42, solver=&#x27;liblinear&#x27;)</pre><b>In a Jupyter environment, please rerun this cell to show the HTML representation or trust the notebook. <br />On GitHub, the HTML representation is unable to render, please try loading this page with nbviewer.org.</b></div><div class=\"sk-container\" hidden><div class=\"sk-item\"><div class=\"sk-estimator sk-toggleable\"><input class=\"sk-toggleable__control sk-hidden--visually\" id=\"sk-estimator-id-30\" type=\"checkbox\" checked><label for=\"sk-estimator-id-30\" class=\"sk-toggleable__label sk-toggleable__label-arrow\">LogisticRegression</label><div class=\"sk-toggleable__content\"><pre>LogisticRegression(C=10, max_iter=1000, random_state=42, solver=&#x27;liblinear&#x27;)</pre></div></div></div></div></div>"
            ]
          },
          "metadata": {},
          "execution_count": 346
        }
      ]
    },
    {
      "cell_type": "code",
      "source": [
        "val_dict = x_val.to_dict(orient='records')\n",
        "x_val_tr = dv.transform(val_dict)\n",
        "y_pred = model.predict(x_val_tr)\n",
        "acc = round(accuracy_score(y_val, y_pred), 2)\n",
        "acc"
      ],
      "metadata": {
        "colab": {
          "base_uri": "https://localhost:8080/"
        },
        "id": "Z7bKgrnPos52",
        "outputId": "c2dae7a6-b8d8-4f7c-a6f5-149dda130159"
      },
      "execution_count": 347,
      "outputs": [
        {
          "output_type": "execute_result",
          "data": {
            "text/plain": [
              "0.95"
            ]
          },
          "metadata": {},
          "execution_count": 347
        }
      ]
    },
    {
      "cell_type": "markdown",
      "source": [
        "## Question 5"
      ],
      "metadata": {
        "id": "dMewTx_V5ezG"
      }
    },
    {
      "cell_type": "code",
      "source": [
        "feats = num_cols + categorical_cols\n",
        "\n",
        "orig_score = acc\n",
        "\n",
        "for c in feats:\n",
        "    subset = feats.copy()\n",
        "    subset.remove(c)\n",
        "\n",
        "    train_dict = x_train[subset].to_dict(orient='records')\n",
        "\n",
        "    dv = DictVectorizer(sparse=False)\n",
        "    dv.fit(train_dict)\n",
        "\n",
        "    x_train_tr = dv.transform(train_dict)\n",
        "\n",
        "    model = LogisticRegression(solver='liblinear', C=1.0, max_iter=1000, random_state=42)\n",
        "    model.fit(x_train_tr, y_train)\n",
        "\n",
        "    val_dict = x_val[subset].to_dict(orient='records')\n",
        "    x_val_tr = dv.transform(val_dict)\n",
        "\n",
        "    y_pred = model.predict(x_val_tr)\n",
        "\n",
        "    score = accuracy_score(y_val, y_pred)\n",
        "    print(c, round(orig_score - score, 3))"
      ],
      "metadata": {
        "colab": {
          "base_uri": "https://localhost:8080/"
        },
        "id": "BE67rwZUos3n",
        "outputId": "789f3dc6-0009-4226-b630-33a9df6d30f4"
      },
      "execution_count": 351,
      "outputs": [
        {
          "output_type": "stream",
          "name": "stdout",
          "text": [
            "year 0.007\n",
            "engine_hp 0.028\n",
            "engine_cylinders 0.004\n",
            "highway_mpg 0.015\n",
            "city_mpg 0.009\n",
            "make 0.025\n",
            "model 0.031\n",
            "transmission_type 0.004\n",
            "vehicle_style 0.028\n"
          ]
        }
      ]
    },
    {
      "cell_type": "markdown",
      "source": [
        "## Question 6"
      ],
      "metadata": {
        "id": "oJZPYO81O8_f"
      }
    },
    {
      "cell_type": "code",
      "source": [
        "target_log = np.log1p(target)\n",
        "np.random.seed(42)\n",
        "\n",
        "x_train, x, y_train, y = train_test_split(features,target_log,test_size=0.4,train_size=0.6)\n",
        "x_test, x_val, y_test, y_val = train_test_split(x,y,test_size = 0.5,train_size =0.5)"
      ],
      "metadata": {
        "id": "rCwnpl9oosy6"
      },
      "execution_count": 358,
      "outputs": []
    },
    {
      "cell_type": "code",
      "source": [
        "train_dict = x_train[categorical_cols + num_cols].to_dict(orient='records')\n",
        "dv = DictVectorizer(sparse=False)\n",
        "dv.fit(train_dict)\n",
        "\n",
        "x_train = dv.transform(train_dict)\n",
        "\n",
        "val_dict = x_val[categorical_cols + num_cols].to_dict(orient='records')\n",
        "x_val = dv.transform(val_dict)\n",
        "for a in [0, 0.01, 0.1, 1, 10]:\n",
        "    model = Ridge(alpha=a, solver=\"sag\", random_state=42)\n",
        "    model.fit(x_train, y_train)\n",
        "\n",
        "    y_pred = model.predict(x_val)\n",
        "\n",
        "    score = np.sqrt(mean_squared_error(y_val, y_pred))\n",
        "\n",
        "    print(a, round(score, 3))"
      ],
      "metadata": {
        "colab": {
          "base_uri": "https://localhost:8080/"
        },
        "id": "trxqWpmmoswu",
        "outputId": "94c83fcb-8b69-4ebf-940e-8369adff26a2"
      },
      "execution_count": 361,
      "outputs": [
        {
          "output_type": "stream",
          "name": "stderr",
          "text": [
            "/usr/local/lib/python3.10/dist-packages/sklearn/linear_model/_sag.py:350: ConvergenceWarning: The max_iter was reached which means the coef_ did not converge\n",
            "  warnings.warn(\n"
          ]
        },
        {
          "output_type": "stream",
          "name": "stdout",
          "text": [
            "0 0.48\n"
          ]
        },
        {
          "output_type": "stream",
          "name": "stderr",
          "text": [
            "/usr/local/lib/python3.10/dist-packages/sklearn/linear_model/_sag.py:350: ConvergenceWarning: The max_iter was reached which means the coef_ did not converge\n",
            "  warnings.warn(\n"
          ]
        },
        {
          "output_type": "stream",
          "name": "stdout",
          "text": [
            "0.01 0.48\n"
          ]
        },
        {
          "output_type": "stream",
          "name": "stderr",
          "text": [
            "/usr/local/lib/python3.10/dist-packages/sklearn/linear_model/_sag.py:350: ConvergenceWarning: The max_iter was reached which means the coef_ did not converge\n",
            "  warnings.warn(\n"
          ]
        },
        {
          "output_type": "stream",
          "name": "stdout",
          "text": [
            "0.1 0.48\n"
          ]
        },
        {
          "output_type": "stream",
          "name": "stderr",
          "text": [
            "/usr/local/lib/python3.10/dist-packages/sklearn/linear_model/_sag.py:350: ConvergenceWarning: The max_iter was reached which means the coef_ did not converge\n",
            "  warnings.warn(\n"
          ]
        },
        {
          "output_type": "stream",
          "name": "stdout",
          "text": [
            "1 0.48\n",
            "10 0.48\n"
          ]
        },
        {
          "output_type": "stream",
          "name": "stderr",
          "text": [
            "/usr/local/lib/python3.10/dist-packages/sklearn/linear_model/_sag.py:350: ConvergenceWarning: The max_iter was reached which means the coef_ did not converge\n",
            "  warnings.warn(\n"
          ]
        }
      ]
    }
  ]
}